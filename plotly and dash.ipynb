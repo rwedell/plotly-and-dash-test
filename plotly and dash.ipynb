{
 "cells": [
  {
   "cell_type": "code",
   "execution_count": 1,
   "metadata": {},
   "outputs": [
    {
     "data": {
      "text/html": [
       "<div>\n",
       "  <iframe src=\"/app/endpoints/82eeed7606a04a2c87b45fb40a73508a/\" width=800 height=600 frameborder=\"0\"></iframe>\n",
       "  <hr/><a href=\"/app/endpoints/82eeed7606a04a2c87b45fb40a73508a/\" target=\"_new\">Open in new window</a> for /app/endpoints/82eeed7606a04a2c87b45fb40a73508a/\n",
       "</div>"
      ],
      "text/plain": [
       "<jupyter_plotly_dash.dash_wrapper.JupyterDash at 0x27897f46108>"
      ]
     },
     "execution_count": 1,
     "metadata": {},
     "output_type": "execute_result"
    }
   ],
   "source": [
    "from jupyter_plotly_dash import JupyterDash\n",
    "import dash\n",
    "import dash_core_components as dcc\n",
    "import dash_html_components as html\n",
    "from dash.dependencies import Input, Output\n",
    "import plotly.graph_objs as go\n",
    "import pandas as pd\n",
    "\n",
    "df = pd.read_csv('https://raw.githubusercontent.com/rwedell/data/master/commute_data_stacked_v2.csv')\n",
    "\n",
    "app = JupyterDash('Commuter Graph')\n",
    "\n",
    "\n",
    "app.title = \"Commuter Graph\"\n",
    "\n",
    "#creating a dictionary of values for the state dropdown\n",
    "state_options = []\n",
    "for state in df['State'].unique():\n",
    "    state_options.append({'label':str(state),'value':state})\n",
    "\n",
    "\n",
    "app.layout = html.Div([\n",
    "    html.Div([\n",
    "        dcc.Dropdown(id = 'state-picker', \n",
    "                     options = state_options,\n",
    "                     value='New York',\n",
    "                     style = {'width':'50%'}),\n",
    "        dcc.Graph(id='graph')        \n",
    "    ])\n",
    "    \n",
    "    \n",
    "])\n",
    "\n",
    "@app.callback(Output('graph', 'figure'),\n",
    "              [Input('state-picker', 'value')])\n",
    "def update_figure(selected_state):\n",
    "    filtered_df = df[df['State'] == selected_state]\n",
    "    trace = []\n",
    "    trace.append(go.Bar(\n",
    "        x = filtered_df['Commute Type'],\n",
    "        y = filtered_df['Rate']\n",
    "        )\n",
    "    )\n",
    "    return {'data': trace,\n",
    "            'layout':go.Layout(\n",
    "                xaxis = {'title': selected_state},\n",
    "                yaxis = {'title': \"Percent of Commuters\", 'showgrid':False},\n",
    "                hovermode = \"closest\",\n",
    "                title = \"Commute Method by Percent in \" + selected_state\n",
    "                )\n",
    "           }\n",
    "app\n",
    "#if __name__ == '__main__':\n",
    "#    app.run_server()"
   ]
  }
 ],
 "metadata": {
  "kernelspec": {
   "display_name": "Python 3",
   "language": "python",
   "name": "python3"
  },
  "language_info": {
   "codemirror_mode": {
    "name": "ipython",
    "version": 3
   },
   "file_extension": ".py",
   "mimetype": "text/x-python",
   "name": "python",
   "nbconvert_exporter": "python",
   "pygments_lexer": "ipython3",
   "version": "3.7.4"
  }
 },
 "nbformat": 4,
 "nbformat_minor": 2
}
